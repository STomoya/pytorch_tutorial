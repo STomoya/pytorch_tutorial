{
 "cells": [
  {
   "cell_type": "markdown",
   "metadata": {},
   "source": [
    "# What is PyTorch\n",
    "## Tensors\n",
    "tensors are similar to ndarrays but can be used on a GPU.\n"
   ]
  },
  {
   "cell_type": "code",
   "execution_count": 2,
   "metadata": {},
   "outputs": [],
   "source": [
    "import torch"
   ]
  },
  {
   "cell_type": "code",
   "execution_count": 4,
   "metadata": {},
   "outputs": [
    {
     "data": {
      "text/plain": [
       "tensor([[5.3134e-08, 3.1369e+27, 7.0800e+31],\n",
       "        [3.1095e-18, 1.8590e+34, 7.7767e+31],\n",
       "        [7.1536e+22, 3.3803e-18, 1.9421e+31],\n",
       "        [2.7491e+20, 6.1949e-04, 3.1739e+32],\n",
       "        [2.3076e-12, 1.8179e+31, 1.8524e+28]])"
      ]
     },
     "execution_count": 4,
     "metadata": {},
     "output_type": "execute_result"
    }
   ],
   "source": [
    "# uninitualized matrix\n",
    "torch.empty(5, 3)"
   ]
  },
  {
   "cell_type": "code",
   "execution_count": 5,
   "metadata": {},
   "outputs": [
    {
     "data": {
      "text/plain": [
       "tensor([[0.9695, 0.1442, 0.3053],\n",
       "        [0.1729, 0.8919, 0.1702],\n",
       "        [0.6150, 0.0603, 0.9545],\n",
       "        [0.8660, 0.8472, 0.2969],\n",
       "        [0.5519, 0.8568, 0.9937]])"
      ]
     },
     "execution_count": 5,
     "metadata": {},
     "output_type": "execute_result"
    }
   ],
   "source": [
    "# randomly initualized matrix\n",
    "torch.rand(5, 3)"
   ]
  },
  {
   "cell_type": "code",
   "execution_count": 7,
   "metadata": {},
   "outputs": [
    {
     "data": {
      "text/plain": [
       "tensor([[0, 0, 0],\n",
       "        [0, 0, 0],\n",
       "        [0, 0, 0],\n",
       "        [0, 0, 0],\n",
       "        [0, 0, 0]])"
      ]
     },
     "execution_count": 7,
     "metadata": {},
     "output_type": "execute_result"
    }
   ],
   "source": [
    "# matrix of zeros and dtype long\n",
    "torch.zeros(5, 3, dtype=torch.long)"
   ]
  },
  {
   "cell_type": "code",
   "execution_count": 8,
   "metadata": {},
   "outputs": [
    {
     "data": {
      "text/plain": [
       "tensor([5, 3])"
      ]
     },
     "execution_count": 8,
     "metadata": {},
     "output_type": "execute_result"
    }
   ],
   "source": [
    "# matrix from data. (same as np.array([]) in numpy)\n",
    "torch.tensor([5, 3], dtype=torch.long)"
   ]
  },
  {
   "cell_type": "code",
   "execution_count": 9,
   "metadata": {},
   "outputs": [
    {
     "name": "stdout",
     "output_type": "stream",
     "text": [
      "tensor([[0.4564, 0.9504]])\n",
      "tensor([[1., 1., 1.],\n",
      "        [1., 1., 1.],\n",
      "        [1., 1., 1.],\n",
      "        [1., 1., 1.],\n",
      "        [1., 1., 1.]], dtype=torch.float64)\n",
      "tensor([[-0.0234, -0.8037,  0.0700],\n",
      "        [ 0.1455, -1.1909, -0.0990],\n",
      "        [ 0.0879,  1.2669, -0.9617],\n",
      "        [-0.1588, -0.7728,  1.2657],\n",
      "        [-1.2453, -0.2065, -0.3687]])\n"
     ]
    }
   ],
   "source": [
    "# create matrix from a existing tensor\n",
    "x = torch.rand(1, 2)\n",
    "print(x)\n",
    "x = x.new_ones(5, 3, dtype=torch.double)\n",
    "print(x)\n",
    "x = torch.randn_like(x, dtype=torch.float)\n",
    "print(x)"
   ]
  },
  {
   "cell_type": "code",
   "execution_count": 10,
   "metadata": {},
   "outputs": [
    {
     "data": {
      "text/plain": [
       "torch.Size([5, 3])"
      ]
     },
     "execution_count": 10,
     "metadata": {},
     "output_type": "execute_result"
    }
   ],
   "source": [
    "x.size()"
   ]
  },
  {
   "cell_type": "markdown",
   "metadata": {},
   "source": [
    "## Operations"
   ]
  },
  {
   "cell_type": "code",
   "execution_count": 13,
   "metadata": {},
   "outputs": [
    {
     "name": "stdout",
     "output_type": "stream",
     "text": [
      "tensor([[0.0818, 0.9422, 0.3031],\n",
      "        [0.3338, 0.0090, 0.4161],\n",
      "        [0.1603, 0.7380, 0.4378],\n",
      "        [0.2294, 0.7636, 0.6053],\n",
      "        [0.4399, 0.2474, 0.3550]])\n"
     ]
    },
    {
     "data": {
      "text/plain": [
       "tensor([[ 0.0584,  0.1385,  0.3731],\n",
       "        [ 0.4793, -1.1820,  0.3171],\n",
       "        [ 0.2482,  2.0049, -0.5239],\n",
       "        [ 0.0707, -0.0092,  1.8710],\n",
       "        [-0.8054,  0.0409, -0.0138]])"
      ]
     },
     "execution_count": 13,
     "metadata": {},
     "output_type": "execute_result"
    }
   ],
   "source": [
    "# addition using operations\n",
    "y = torch.rand(x.size())\n",
    "print(y)\n",
    "x + y"
   ]
  },
  {
   "cell_type": "code",
   "execution_count": 14,
   "metadata": {},
   "outputs": [
    {
     "data": {
      "text/plain": [
       "tensor([[ 0.0584,  0.1385,  0.3731],\n",
       "        [ 0.4793, -1.1820,  0.3171],\n",
       "        [ 0.2482,  2.0049, -0.5239],\n",
       "        [ 0.0707, -0.0092,  1.8710],\n",
       "        [-0.8054,  0.0409, -0.0138]])"
      ]
     },
     "execution_count": 14,
     "metadata": {},
     "output_type": "execute_result"
    }
   ],
   "source": [
    "# addition using function\n",
    "torch.add(x, y)"
   ]
  },
  {
   "cell_type": "code",
   "execution_count": 15,
   "metadata": {},
   "outputs": [
    {
     "data": {
      "text/plain": [
       "tensor([[ 0.0584,  0.1385,  0.3731],\n",
       "        [ 0.4793, -1.1820,  0.3171],\n",
       "        [ 0.2482,  2.0049, -0.5239],\n",
       "        [ 0.0707, -0.0092,  1.8710],\n",
       "        [-0.8054,  0.0409, -0.0138]])"
      ]
     },
     "execution_count": 15,
     "metadata": {},
     "output_type": "execute_result"
    }
   ],
   "source": [
    "# output to tensor\n",
    "out = torch.empty(x.size())\n",
    "torch.add(x, y, out=out)\n",
    "out"
   ]
  },
  {
   "cell_type": "code",
   "execution_count": 16,
   "metadata": {},
   "outputs": [
    {
     "data": {
      "text/plain": [
       "tensor([[ 0.0584,  0.1385,  0.3731],\n",
       "        [ 0.4793, -1.1820,  0.3171],\n",
       "        [ 0.2482,  2.0049, -0.5239],\n",
       "        [ 0.0707, -0.0092,  1.8710],\n",
       "        [-0.8054,  0.0409, -0.0138]])"
      ]
     },
     "execution_count": 16,
     "metadata": {},
     "output_type": "execute_result"
    }
   ],
   "source": [
    "# inplace operation\n",
    "y.add_(x)"
   ]
  },
  {
   "cell_type": "code",
   "execution_count": 17,
   "metadata": {},
   "outputs": [
    {
     "data": {
      "text/plain": [
       "tensor([-0.8037, -1.1909,  1.2669, -0.7728, -0.2065])"
      ]
     },
     "execution_count": 17,
     "metadata": {},
     "output_type": "execute_result"
    }
   ],
   "source": [
    "# indexing like numpy\n",
    "x[:, 1]"
   ]
  },
  {
   "cell_type": "code",
   "execution_count": 20,
   "metadata": {},
   "outputs": [
    {
     "name": "stdout",
     "output_type": "stream",
     "text": [
      "tensor([[0.9401, 0.3889, 0.0717, 0.5138],\n",
      "        [0.7982, 0.2646, 0.1858, 0.4498],\n",
      "        [0.8406, 0.1096, 0.4935, 0.4325],\n",
      "        [0.6287, 0.5340, 0.7644, 0.7431]])\n",
      "tensor([0.9401, 0.3889, 0.0717, 0.5138, 0.7982, 0.2646, 0.1858, 0.4498, 0.8406,\n",
      "        0.1096, 0.4935, 0.4325, 0.6287, 0.5340, 0.7644, 0.7431])\n",
      "tensor([[0.9401, 0.3889, 0.0717, 0.5138, 0.7982, 0.2646, 0.1858, 0.4498],\n",
      "        [0.8406, 0.1096, 0.4935, 0.4325, 0.6287, 0.5340, 0.7644, 0.7431]])\n"
     ]
    }
   ],
   "source": [
    "# resizing/reshaping tensors\n",
    "x = torch.rand(4, 4)\n",
    "print(x)\n",
    "print(x.view(16))\n",
    "print(x.view(-1, 8))"
   ]
  },
  {
   "cell_type": "code",
   "execution_count": 22,
   "metadata": {},
   "outputs": [
    {
     "data": {
      "text/plain": [
       "-1.1989820003509521"
      ]
     },
     "execution_count": 22,
     "metadata": {},
     "output_type": "execute_result"
    }
   ],
   "source": [
    "# get value of one element tensor\n",
    "x = torch.randn(1)\n",
    "x.item()"
   ]
  },
  {
   "cell_type": "markdown",
   "metadata": {},
   "source": [
    "## NumPy Bridge"
   ]
  },
  {
   "cell_type": "code",
   "execution_count": 26,
   "metadata": {},
   "outputs": [
    {
     "name": "stdout",
     "output_type": "stream",
     "text": [
      "<class 'torch.Tensor'>\n",
      "<class 'numpy.ndarray'>\n"
     ]
    }
   ],
   "source": [
    "# convert to numpy array\n",
    "a = torch.ones(5)\n",
    "print(type(a))\n",
    "b = a.numpy()\n",
    "print(type(b))"
   ]
  },
  {
   "cell_type": "code",
   "execution_count": 27,
   "metadata": {},
   "outputs": [
    {
     "name": "stdout",
     "output_type": "stream",
     "text": [
      "tensor([1., 1., 1., 1., 1.])\n",
      "[1. 1. 1. 1. 1.]\n",
      "tensor([2., 2., 2., 2., 2.])\n",
      "[2. 2. 2. 2. 2.]\n"
     ]
    }
   ],
   "source": [
    "# they share the same physical memory if on cpu\n",
    "print(a)\n",
    "print(b)\n",
    "\n",
    "a.add_(1)\n",
    "print(a)\n",
    "print(b)"
   ]
  },
  {
   "cell_type": "code",
   "execution_count": 28,
   "metadata": {},
   "outputs": [
    {
     "name": "stdout",
     "output_type": "stream",
     "text": [
      "[2. 2. 2. 2. 2.]\n",
      "tensor([2., 2., 2., 2., 2.], dtype=torch.float64)\n"
     ]
    }
   ],
   "source": [
    "# converting numpy array to tensor\n",
    "import numpy as np\n",
    "a = np.ones(5)\n",
    "b = torch.from_numpy(a)\n",
    "np.add(a, 1, out=a)\n",
    "print(a)\n",
    "print(b)"
   ]
  },
  {
   "cell_type": "markdown",
   "metadata": {},
   "source": [
    "## CUDA Tensor"
   ]
  },
  {
   "cell_type": "code",
   "execution_count": 30,
   "metadata": {},
   "outputs": [
    {
     "name": "stdout",
     "output_type": "stream",
     "text": [
      "Sun Oct  6 22:18:08 2019       \r\n",
      "+-----------------------------------------------------------------------------+\r\n",
      "| NVIDIA-SMI 430.50       Driver Version: 430.50       CUDA Version: 10.1     |\r\n",
      "|-------------------------------+----------------------+----------------------+\r\n",
      "| GPU  Name        Persistence-M| Bus-Id        Disp.A | Volatile Uncorr. ECC |\r\n",
      "| Fan  Temp  Perf  Pwr:Usage/Cap|         Memory-Usage | GPU-Util  Compute M. |\r\n",
      "|===============================+======================+======================|\r\n",
      "|   0  GeForce GTX 166...  Off  | 00000000:01:00.0  On |                  N/A |\r\n",
      "| 36%   39C    P8     8W / 120W |   1400MiB /  5943MiB |      2%      Default |\r\n",
      "+-------------------------------+----------------------+----------------------+\r\n",
      "                                                                               \r\n",
      "+-----------------------------------------------------------------------------+\r\n",
      "| Processes:                                                       GPU Memory |\r\n",
      "|  GPU       PID   Type   Process name                             Usage      |\r\n",
      "|=============================================================================|\r\n",
      "|    0      1157      G   /usr/lib/xorg/Xorg                            18MiB |\r\n",
      "|    0      1186      G   /usr/bin/gnome-shell                          48MiB |\r\n",
      "|    0      2964      G   /usr/lib/xorg/Xorg                           210MiB |\r\n",
      "|    0      3098      G   /usr/bin/gnome-shell                         108MiB |\r\n",
      "|    0      4765      G   ...quest-channel-token=3084139587545238009    65MiB |\r\n",
      "|    0     19716      G   ...quest-channel-token=3889019639120203479   112MiB |\r\n",
      "|    0     23927      C   ...ts/pytorch_tutorial/.venv/bin/python3.7   825MiB |\r\n",
      "+-----------------------------------------------------------------------------+\r\n"
     ]
    }
   ],
   "source": [
    "!nvidia-smi"
   ]
  },
  {
   "cell_type": "code",
   "execution_count": 29,
   "metadata": {},
   "outputs": [
    {
     "name": "stdout",
     "output_type": "stream",
     "text": [
      "tensor([-0.1990], device='cuda:0')\n",
      "tensor([-0.1990], dtype=torch.float64)\n"
     ]
    }
   ],
   "source": [
    "# move tensor by .to\n",
    "if torch.cuda.is_available():\n",
    "    device = torch.device('cuda')\n",
    "    y = torch.ones_like(x, device=device)\n",
    "    x = x.to(device)\n",
    "    z = x + y\n",
    "    print(z)\n",
    "    print(z.to('cpu', torch.double))"
   ]
  },
  {
   "cell_type": "code",
   "execution_count": null,
   "metadata": {},
   "outputs": [],
   "source": []
  },
  {
   "cell_type": "markdown",
   "metadata": {},
   "source": [
    "# Done"
   ]
  }
 ],
 "metadata": {
  "kernelspec": {
   "display_name": "Python 3",
   "language": "python",
   "name": "python3"
  },
  "language_info": {
   "codemirror_mode": {
    "name": "ipython",
    "version": 3
   },
   "file_extension": ".py",
   "mimetype": "text/x-python",
   "name": "python",
   "nbconvert_exporter": "python",
   "pygments_lexer": "ipython3",
   "version": "3.7.4"
  }
 },
 "nbformat": 4,
 "nbformat_minor": 2
}
